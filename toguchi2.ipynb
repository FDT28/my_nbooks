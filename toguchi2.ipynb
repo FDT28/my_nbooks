{
 "cells": [
  {
   "cell_type": "markdown",
   "id": "52f4a0bc-bcfb-4d20-8844-5de7d3afc00f",
   "metadata": {},
   "source": [
    "# Chapter 2 Assignment"
   ]
  },
  {
   "cell_type": "markdown",
   "id": "1b8884b3-7bad-4e34-a927-70e512fda8fe",
   "metadata": {},
   "source": [
    "## Fabio Toguchi"
   ]
  },
  {
   "cell_type": "code",
   "execution_count": 10,
   "id": "1fa85a1c-2109-41e9-96e1-66bbaa19e965",
   "metadata": {},
   "outputs": [],
   "source": [
    "import pandas"
   ]
  },
  {
   "cell_type": "code",
   "execution_count": 52,
   "id": "4223e5b5-c680-40d1-a10d-730d66aec784",
   "metadata": {},
   "outputs": [],
   "source": [
    "#Imported from local storage. Wasn't sure if it was meant to be imported from somewhere else\n",
    "ramen_df = pd.read_csv(\"C:\\\\Users\\\\Fabio Toguchi\\\\Downloads\\\\ramen-ratings.csv\")"
   ]
  },
  {
   "cell_type": "code",
   "execution_count": 74,
   "id": "e1ec27e7-cb95-4e53-933a-74d2c14d9e9b",
   "metadata": {},
   "outputs": [
    {
     "name": "stdout",
     "output_type": "stream",
     "text": [
      "            Brand                                            Variety Style  \\\n",
      "0       New Touch                          T's Restaurant Tantanmen    Cup   \n",
      "1        Just Way  Noodles Spicy Hot Sesame Spicy Hot Sesame Guan...  Pack   \n",
      "2          Nissin                      Cup Noodles Chicken Vegetable   Cup   \n",
      "3         Wei Lih                      GGE Ramen Snack Tomato Flavor  Pack   \n",
      "4  Ching's Secret                                    Singapore Curry  Pack   \n",
      "\n",
      "  Country  Stars  \n",
      "0   Japan   3.75  \n",
      "1  Taiwan   1.00  \n",
      "2     USA   2.25  \n",
      "3  Taiwan   2.75  \n",
      "4   India   3.75  \n"
     ]
    }
   ],
   "source": [
    "#First 5 rows of data\n",
    "print(ramen_df.head())"
   ]
  },
  {
   "cell_type": "code",
   "execution_count": 76,
   "id": "b0238c5f-7db4-481d-a2e3-3c70641901ed",
   "metadata": {},
   "outputs": [
    {
     "name": "stdout",
     "output_type": "stream",
     "text": [
      "         Brand                                            Variety Style  \\\n",
      "2572     Vifon  Hu Tiu Nam Vang [\"Phnom Penh\" style] Asian Sty...  Bowl   \n",
      "2573   Wai Wai                     Oriental Style Instant Noodles  Pack   \n",
      "2574   Wai Wai                                     Tom Yum Shrimp  Pack   \n",
      "2575   Wai Wai                               Tom Yum Chili Flavor  Pack   \n",
      "2576  Westbrae                                         Miso Ramen  Pack   \n",
      "\n",
      "       Country  Stars  \n",
      "2572   Vietnam    3.5  \n",
      "2573  Thailand    1.0  \n",
      "2574  Thailand    2.0  \n",
      "2575  Thailand    2.0  \n",
      "2576       USA    0.5  \n"
     ]
    }
   ],
   "source": [
    "#Last 5 rows of data\n",
    "print(ramen_df.tail())"
   ]
  },
  {
   "cell_type": "code",
   "execution_count": 78,
   "id": "9ab3983f-d668-4d28-ac76-304fdada9c65",
   "metadata": {},
   "outputs": [
    {
     "data": {
      "text/html": [
       "<div>\n",
       "<style scoped>\n",
       "    .dataframe tbody tr th:only-of-type {\n",
       "        vertical-align: middle;\n",
       "    }\n",
       "\n",
       "    .dataframe tbody tr th {\n",
       "        vertical-align: top;\n",
       "    }\n",
       "\n",
       "    .dataframe thead th {\n",
       "        text-align: right;\n",
       "    }\n",
       "</style>\n",
       "<table border=\"1\" class=\"dataframe\">\n",
       "  <thead>\n",
       "    <tr style=\"text-align: right;\">\n",
       "      <th></th>\n",
       "      <th>Stars</th>\n",
       "    </tr>\n",
       "  </thead>\n",
       "  <tbody>\n",
       "    <tr>\n",
       "      <th>count</th>\n",
       "      <td>2577.000000</td>\n",
       "    </tr>\n",
       "    <tr>\n",
       "      <th>mean</th>\n",
       "      <td>3.654676</td>\n",
       "    </tr>\n",
       "    <tr>\n",
       "      <th>std</th>\n",
       "      <td>1.015331</td>\n",
       "    </tr>\n",
       "    <tr>\n",
       "      <th>min</th>\n",
       "      <td>0.000000</td>\n",
       "    </tr>\n",
       "    <tr>\n",
       "      <th>25%</th>\n",
       "      <td>3.250000</td>\n",
       "    </tr>\n",
       "    <tr>\n",
       "      <th>50%</th>\n",
       "      <td>3.750000</td>\n",
       "    </tr>\n",
       "    <tr>\n",
       "      <th>75%</th>\n",
       "      <td>4.250000</td>\n",
       "    </tr>\n",
       "    <tr>\n",
       "      <th>max</th>\n",
       "      <td>5.000000</td>\n",
       "    </tr>\n",
       "  </tbody>\n",
       "</table>\n",
       "</div>"
      ],
      "text/plain": [
       "             Stars\n",
       "count  2577.000000\n",
       "mean      3.654676\n",
       "std       1.015331\n",
       "min       0.000000\n",
       "25%       3.250000\n",
       "50%       3.750000\n",
       "75%       4.250000\n",
       "max       5.000000"
      ]
     },
     "execution_count": 78,
     "metadata": {},
     "output_type": "execute_result"
    }
   ],
   "source": [
    "ramen_df.describe()"
   ]
  },
  {
   "cell_type": "code",
   "execution_count": 80,
   "id": "56410bf8-39cc-4c52-9207-112d00c921fb",
   "metadata": {},
   "outputs": [
    {
     "data": {
      "text/plain": [
       "Brand       355\n",
       "Variety    2410\n",
       "Style         7\n",
       "Country      37\n",
       "Stars        42\n",
       "dtype: int64"
      ]
     },
     "execution_count": 80,
     "metadata": {},
     "output_type": "execute_result"
    }
   ],
   "source": [
    "ramen_df.nunique()"
   ]
  },
  {
   "cell_type": "code",
   "execution_count": 82,
   "id": "0128d9af-8d61-4383-a88e-c5c0bf5d5460",
   "metadata": {},
   "outputs": [
    {
     "name": "stdout",
     "output_type": "stream",
     "text": [
      "              Brand                                            Variety Style  \\\n",
      "18         Binh Tay                                         Mi Hai Cua  Pack   \n",
      "52    Uni-President                                    Mushroom Flavor  Pack   \n",
      "143        Mum Ngon                                   Lau Tom Chua Cay  Pack   \n",
      "224           Vifon  Viet Cuisine Bun Rieu Cua Sour Crab Soup Insta...  Bowl   \n",
      "365         Acecook                             Oh! Ricey Pork Flavour  Pack   \n",
      "...             ...                                                ...   ...   \n",
      "2486       Binh Tay                                   Mi Chay Mushroom  Pack   \n",
      "2535        Ve Wong                             Kung-Fu Chicken Flavor  Pack   \n",
      "2570        Ve Wong                                      Mushroom Pork  Pack   \n",
      "2571          Vifon                                           Nam Vang  Pack   \n",
      "2572          Vifon  Hu Tiu Nam Vang [\"Phnom Penh\" style] Asian Sty...  Bowl   \n",
      "\n",
      "      Country  Stars  \n",
      "18    Vietnam   4.00  \n",
      "52    Vietnam   0.00  \n",
      "143   Vietnam   3.50  \n",
      "224   Vietnam   5.00  \n",
      "365   Vietnam   4.00  \n",
      "...       ...    ...  \n",
      "2486  Vietnam   2.75  \n",
      "2535  Vietnam   2.75  \n",
      "2570  Vietnam   1.00  \n",
      "2571  Vietnam   2.50  \n",
      "2572  Vietnam   3.50  \n",
      "\n",
      "[108 rows x 5 columns]\n"
     ]
    }
   ],
   "source": [
    "# I dont know if I understood the order correclty.\n",
    "vietnam_filter_df = ramen_df[ramen_df[\"Country\"] == \"Vietnam\"]\n",
    "print(vietnam_filter_df)"
   ]
  },
  {
   "cell_type": "code",
   "execution_count": 84,
   "id": "ac9a747e-178b-4df4-9862-fb7b282f085e",
   "metadata": {},
   "outputs": [
    {
     "name": "stdout",
     "output_type": "stream",
     "text": [
      "               Brand Style\n",
      "0          New Touch   Cup\n",
      "1           Just Way  Pack\n",
      "2             Nissin   Cup\n",
      "3            Wei Lih  Pack\n",
      "4     Ching's Secret  Pack\n",
      "...              ...   ...\n",
      "2572           Vifon  Bowl\n",
      "2573         Wai Wai  Pack\n",
      "2574         Wai Wai  Pack\n",
      "2575         Wai Wai  Pack\n",
      "2576        Westbrae  Pack\n",
      "\n",
      "[2577 rows x 2 columns]\n"
     ]
    }
   ],
   "source": [
    "# Display only Brand and Style columns\n",
    "brand_styles_df = ramen_df[[\"Brand\",\"Style\"]]\n",
    "print(brand_styles_df)"
   ]
  },
  {
   "cell_type": "code",
   "execution_count": 86,
   "id": "6a393d06-c30d-4319-a49d-6a530ea68729",
   "metadata": {},
   "outputs": [
    {
     "name": "stdout",
     "output_type": "stream",
     "text": [
      "0          Japan\n",
      "1         Taiwan\n",
      "2            USA\n",
      "3         Taiwan\n",
      "4          India\n",
      "          ...   \n",
      "2572     Vietnam\n",
      "2573    Thailand\n",
      "2574    Thailand\n",
      "2575    Thailand\n",
      "2576         USA\n",
      "Name: Country, Length: 2577, dtype: object\n"
     ]
    }
   ],
   "source": [
    "# Display only Country columns\n",
    "country_series = ramen_df[\"Country\"]\n",
    "print(country_series)"
   ]
  },
  {
   "cell_type": "code",
   "execution_count": 88,
   "id": "4ea1622d-a7b0-4abb-a3e9-e27bc4364510",
   "metadata": {},
   "outputs": [
    {
     "name": "stdout",
     "output_type": "stream",
     "text": [
      "               Brand                                            Variety Style  \\\n",
      "1585     Prima Taste                            Singapore Laksa La Mian  Pack   \n",
      "446         Maruchan  Instant Lunch Chipotle Chicken Flavor Ramen No...   Cup   \n",
      "484         Nongshim          Champong Noodle Soup Spicy Seafood Flavor  Pack   \n",
      "483           Nissin                              Straits Kitchen Laksa  Pack   \n",
      "1613          Nissin                 Raoh Backfat Rich Soy Sauce Flavor  Bowl   \n",
      "...              ...                                                ...   ...   \n",
      "522             Koyo                 Garlic Pepper Reduced Sodium Ramen  Pack   \n",
      "561    Samyang Foods                            Honey & Cheese Big Bowl  Bowl   \n",
      "950            Azami                                Kimchee Noodle Soup   Cup   \n",
      "2079  Hsin Tung Yang                     Tiny Noodle With Oyster Flavor  Pack   \n",
      "52     Uni-President                                    Mushroom Flavor  Pack   \n",
      "\n",
      "          Country  Stars  \n",
      "1585    Singapore    5.0  \n",
      "446           USA    5.0  \n",
      "484   South Korea    5.0  \n",
      "483     Singapore    5.0  \n",
      "1613        Japan    5.0  \n",
      "...           ...    ...  \n",
      "522           USA    0.0  \n",
      "561   South Korea    0.0  \n",
      "950        Canada    0.0  \n",
      "2079       Taiwan    0.0  \n",
      "52        Vietnam    0.0  \n",
      "\n",
      "[2577 rows x 5 columns]\n"
     ]
    }
   ],
   "source": [
    "# Display dataframe sorted by Stars in descending order\n",
    "sorted_ramen_df = ramen_df.sort_values(by = \"Stars\", ascending = False)\n",
    "print(sorted_ramen_df)"
   ]
  },
  {
   "cell_type": "code",
   "execution_count": 94,
   "id": "3b53b622-4c82-44ee-9608-146e86e3f6cc",
   "metadata": {},
   "outputs": [],
   "source": [
    "# Repalce word \"United States\" with \"USA\".\n",
    "ramen_df[\"Country\"] = ramen_df[\"Country\"].replace(\"USA\" , \"United States\")"
   ]
  },
  {
   "cell_type": "code",
   "execution_count": 96,
   "id": "d06ed7d1-d419-4c78-b923-82937acbcfce",
   "metadata": {},
   "outputs": [
    {
     "name": "stdout",
     "output_type": "stream",
     "text": [
      "            Brand                                            Variety Style  \\\n",
      "0       New Touch                          T's Restaurant Tantanmen    Cup   \n",
      "1        Just Way  Noodles Spicy Hot Sesame Spicy Hot Sesame Guan...  Pack   \n",
      "2          Nissin                      Cup Noodles Chicken Vegetable   Cup   \n",
      "3         Wei Lih                      GGE Ramen Snack Tomato Flavor  Pack   \n",
      "4  Ching's Secret                                    Singapore Curry  Pack   \n",
      "\n",
      "         Country  Stars  \n",
      "0          Japan   3.75  \n",
      "1         Taiwan   1.00  \n",
      "2  United States   2.25  \n",
      "3         Taiwan   2.75  \n",
      "4          India   3.75  \n"
     ]
    }
   ],
   "source": [
    "# Print firts five rows\n",
    "print(ramen_df.head())"
   ]
  },
  {
   "cell_type": "code",
   "execution_count": 100,
   "id": "91862e9d-afed-4a26-baa9-13132de2dcfc",
   "metadata": {},
   "outputs": [
    {
     "name": "stdout",
     "output_type": "stream",
     "text": [
      "37\n"
     ]
    }
   ],
   "source": [
    "# Number of countries in the dataframe\n",
    "number_countries = ramen_df[\"Country\"].nunique()\n",
    "print(number_countries)"
   ]
  },
  {
   "cell_type": "code",
   "execution_count": 104,
   "id": "31ff4a84-6bb0-42b0-ad62-5afc9e2338d4",
   "metadata": {},
   "outputs": [
    {
     "name": "stdout",
     "output_type": "stream",
     "text": [
      "Country\n",
      "Brazil      4.350000\n",
      "Sarawak     4.333333\n",
      "Cambodia    4.200000\n",
      "Name: Stars, dtype: float64\n"
     ]
    }
   ],
   "source": [
    "# Three highest rated countries\n",
    "average_ratings = ramen_df.groupby(\"Country\")[\"Stars\"].mean()\n",
    "three_highest_rated_countries = average_ratings.nlargest(3)\n",
    "print(three_highest_rated_countries)"
   ]
  },
  {
   "cell_type": "code",
   "execution_count": 110,
   "id": "4096b28a-42fe-4f92-bebc-ad90f2b4c648",
   "metadata": {},
   "outputs": [
    {
     "name": "stdout",
     "output_type": "stream",
     "text": [
      "Country\n",
      "Nigeria        1.500000\n",
      "Canada         2.243902\n",
      "Netherlands    2.483333\n",
      "Name: Stars, dtype: float64\n"
     ]
    }
   ],
   "source": [
    "# Three lowest rated countries\n",
    "three_lowest_rated_countries = average_ratings.nsmallest(3)\n",
    "print(three_lowest_rated_countries)"
   ]
  },
  {
   "cell_type": "code",
   "execution_count": 118,
   "id": "fc84919d-676e-4673-82b9-07561be9a37a",
   "metadata": {},
   "outputs": [
    {
     "name": "stdout",
     "output_type": "stream",
     "text": [
      "Country\n",
      "Nigeria        1.500000\n",
      "Canada         2.243902\n",
      "Netherlands    2.483333\n",
      "Name: Stars, dtype: float64\n",
      "CPU times: total: 0 ns\n",
      "Wall time: 999 μs\n"
     ]
    }
   ],
   "source": [
    "%%time\n",
    "# Time that takes the code to run\n",
    "three_lowest_rated_countries = average_ratings.nsmallest(3)\n",
    "print(three_lowest_rated_countries)"
   ]
  },
  {
   "cell_type": "code",
   "execution_count": null,
   "id": "fe27c880-3912-4a41-a402-7fb46b28d5da",
   "metadata": {},
   "outputs": [],
   "source": []
  }
 ],
 "metadata": {
  "kernelspec": {
   "display_name": "Python 3 (ipykernel)",
   "language": "python",
   "name": "python3"
  },
  "language_info": {
   "codemirror_mode": {
    "name": "ipython",
    "version": 3
   },
   "file_extension": ".py",
   "mimetype": "text/x-python",
   "name": "python",
   "nbconvert_exporter": "python",
   "pygments_lexer": "ipython3",
   "version": "3.12.4"
  }
 },
 "nbformat": 4,
 "nbformat_minor": 5
}
